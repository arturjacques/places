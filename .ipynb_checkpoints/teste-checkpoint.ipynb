{
 "cells": [
  {
   "cell_type": "code",
   "execution_count": 1,
   "metadata": {},
   "outputs": [],
   "source": [
    "from search.models import Maps\n",
    "import requests\n",
    "from time import sleep"
   ]
  },
  {
   "cell_type": "code",
   "execution_count": 2,
   "metadata": {},
   "outputs": [],
   "source": [
    "f = open('key.txt', mode='r')\n",
    "key = f.read()\n",
    "key = key.replace('\\n','')\n",
    "f.close()"
   ]
  },
  {
   "cell_type": "code",
   "execution_count": 5,
   "metadata": {},
   "outputs": [],
   "source": [
    "list_city = list(dict_city.keys())"
   ]
  },
  {
   "cell_type": "code",
   "execution_count": 6,
   "metadata": {
    "scrolled": true
   },
   "outputs": [
    {
     "name": "stdout",
     "output_type": "stream",
     "text": [
      "Aguas Mornas\n",
      "Alfredo Wagner\n",
      "Angelina\n",
      "Anitapolis\n",
      "Antonio Carlos\n",
      "Ararangua\n",
      "Armazem\n",
      "Balneario Arroio Do Silva\n",
      "Balneario Gaivota\n",
      "Biguacu\n",
      "Braco Do Norte\n",
      "Canelinha\n",
      "Capivari De Baixo\n",
      "Cocal Do Sul\n",
      "Criciuma\n",
      "Ermo\n",
      "Florianopolis\n",
      "Forquilhinha\n",
      "Garopaba\n",
      "Governador Celso Ramos\n",
      "Grão Para\n",
      "Gravatal\n",
      "Icara\n",
      "Imarui\n",
      "Imbituba\n",
      "Jacinto Machado\n",
      "Jaguaruna\n",
      "Laguna\n",
      "Lauro Muller\n",
      "Leoberto Leal\n",
      "Major Gercino\n",
      "Maracaja\n",
      "Meleiro\n",
      "Morro Da Fumaca\n",
      "Morro Grande\n",
      "Nova Trento\n",
      "Nova Veneza\n",
      "Orleans\n",
      "Palhoca\n",
      "Passo De Torres\n",
      "Paulo Lopes\n",
      "Pedras Grandes\n",
      "Praia Grande\n",
      "Rancho Queimado\n",
      "Rio Fortuna\n",
      "Sangão\n",
      "Santa Rosa De Lima\n",
      "Santa Rosa Do Sul\n",
      "Santo Amaro Da Imperatriz\n",
      "São Bonifacio\n",
      "São João Batista\n",
      "São João Do Sul\n",
      "São Jose\n",
      "São Ludgero\n",
      "São Martinho\n",
      "São Pedro De Alcantara\n",
      "Sideropolis\n",
      "Sombrio\n",
      "Tijucas\n",
      "Timbe Do Sul\n",
      "Treviso\n",
      "Treze De Maio\n",
      "Tubarão\n",
      "Turvo\n",
      "Urussanga\n"
     ]
    }
   ],
   "source": [
    "new_dict_city = dict()\n",
    "maps = Maps(key)\n",
    "\n",
    "for city in list_city:\n",
    "    print(city)\n",
    "    new_dict_city[city] = maps.city_coordinates(city=city)"
   ]
  },
  {
   "cell_type": "code",
   "execution_count": 8,
   "metadata": {},
   "outputs": [],
   "source": [
    "import pandas as pd"
   ]
  },
  {
   "cell_type": "code",
   "execution_count": 17,
   "metadata": {},
   "outputs": [],
   "source": [
    "lojas = pd.read_csv('places.csv').drop(['Unnamed: 0', 'types', 'business_status'], axis=1)"
   ]
  },
  {
   "cell_type": "code",
   "execution_count": 21,
   "metadata": {},
   "outputs": [],
   "source": [
    "lojas.rename({'name': 'nome', 'location':'coordenadas',\n",
    "              'url': 'link_maps', 'rating':'avaliação',\n",
    "              'formatted_phone_number': 'telefone',\n",
    "              'formatted_address': 'endereço'}, axis=1).to_csv('lojas.csv')"
   ]
  },
  {
   "cell_type": "code",
   "execution_count": 14,
   "metadata": {},
   "outputs": [
    {
     "data": {
      "text/html": [
       "<div>\n",
       "<style scoped>\n",
       "    .dataframe tbody tr th:only-of-type {\n",
       "        vertical-align: middle;\n",
       "    }\n",
       "\n",
       "    .dataframe tbody tr th {\n",
       "        vertical-align: top;\n",
       "    }\n",
       "\n",
       "    .dataframe thead th {\n",
       "        text-align: right;\n",
       "    }\n",
       "</style>\n",
       "<table border=\"1\" class=\"dataframe\">\n",
       "  <thead>\n",
       "    <tr style=\"text-align: right;\">\n",
       "      <th></th>\n",
       "      <th>lat</th>\n",
       "      <th>lng</th>\n",
       "      <th>DDD</th>\n",
       "      <th>state</th>\n",
       "    </tr>\n",
       "  </thead>\n",
       "  <tbody>\n",
       "    <tr>\n",
       "      <th>Aguas Mornas</th>\n",
       "      <td>-27.743632</td>\n",
       "      <td>-48.920283</td>\n",
       "      <td>48</td>\n",
       "      <td>SC</td>\n",
       "    </tr>\n",
       "    <tr>\n",
       "      <th>Alfredo Wagner</th>\n",
       "      <td>-27.695949</td>\n",
       "      <td>-49.332069</td>\n",
       "      <td>48</td>\n",
       "      <td>SC</td>\n",
       "    </tr>\n",
       "    <tr>\n",
       "      <th>Angelina</th>\n",
       "      <td>-27.573336</td>\n",
       "      <td>-48.984379</td>\n",
       "      <td>48</td>\n",
       "      <td>SC</td>\n",
       "    </tr>\n",
       "    <tr>\n",
       "      <th>Anitapolis</th>\n",
       "      <td>-27.907118</td>\n",
       "      <td>-49.128297</td>\n",
       "      <td>48</td>\n",
       "      <td>SC</td>\n",
       "    </tr>\n",
       "    <tr>\n",
       "      <th>Antonio Carlos</th>\n",
       "      <td>-27.517904</td>\n",
       "      <td>-48.768418</td>\n",
       "      <td>48</td>\n",
       "      <td>SC</td>\n",
       "    </tr>\n",
       "    <tr>\n",
       "      <th>...</th>\n",
       "      <td>...</td>\n",
       "      <td>...</td>\n",
       "      <td>...</td>\n",
       "      <td>...</td>\n",
       "    </tr>\n",
       "    <tr>\n",
       "      <th>Treviso</th>\n",
       "      <td>45.666889</td>\n",
       "      <td>12.243044</td>\n",
       "      <td>48</td>\n",
       "      <td>SC</td>\n",
       "    </tr>\n",
       "    <tr>\n",
       "      <th>Treze De Maio</th>\n",
       "      <td>-28.559877</td>\n",
       "      <td>-49.151035</td>\n",
       "      <td>48</td>\n",
       "      <td>SC</td>\n",
       "    </tr>\n",
       "    <tr>\n",
       "      <th>Tubarão</th>\n",
       "      <td>-28.481887</td>\n",
       "      <td>-49.005873</td>\n",
       "      <td>48</td>\n",
       "      <td>SC</td>\n",
       "    </tr>\n",
       "    <tr>\n",
       "      <th>Turvo</th>\n",
       "      <td>-25.046152</td>\n",
       "      <td>-51.539270</td>\n",
       "      <td>48</td>\n",
       "      <td>SC</td>\n",
       "    </tr>\n",
       "    <tr>\n",
       "      <th>Urussanga</th>\n",
       "      <td>-28.525567</td>\n",
       "      <td>-49.321541</td>\n",
       "      <td>48</td>\n",
       "      <td>SC</td>\n",
       "    </tr>\n",
       "  </tbody>\n",
       "</table>\n",
       "<p>65 rows × 4 columns</p>\n",
       "</div>"
      ],
      "text/plain": [
       "                      lat        lng  DDD state\n",
       "Aguas Mornas   -27.743632 -48.920283   48    SC\n",
       "Alfredo Wagner -27.695949 -49.332069   48    SC\n",
       "Angelina       -27.573336 -48.984379   48    SC\n",
       "Anitapolis     -27.907118 -49.128297   48    SC\n",
       "Antonio Carlos -27.517904 -48.768418   48    SC\n",
       "...                   ...        ...  ...   ...\n",
       "Treviso         45.666889  12.243044   48    SC\n",
       "Treze De Maio  -28.559877 -49.151035   48    SC\n",
       "Tubarão        -28.481887 -49.005873   48    SC\n",
       "Turvo          -25.046152 -51.539270   48    SC\n",
       "Urussanga      -28.525567 -49.321541   48    SC\n",
       "\n",
       "[65 rows x 4 columns]"
      ]
     },
     "execution_count": 14,
     "metadata": {},
     "output_type": "execute_result"
    }
   ],
   "source": [
    "cities_df = pd.DataFrame(dict_city).T\n",
    "cities_df['DDD'] = 48\n",
    "cities_df['state'] = \"SC\"\n",
    "\n",
    "\n",
    "cities_df"
   ]
  },
  {
   "cell_type": "code",
   "execution_count": 3,
   "metadata": {},
   "outputs": [],
   "source": [
    "txt = '''\n",
    "DDD 47\tAgrolandia\tSanta Catarina\tSC\n",
    "DDD 47\tAgronomica\tSanta Catarina\tSC\n",
    "DDD 47\tApiuna\tSanta Catarina\tSC\n",
    "DDD 47\tAraquari\tSanta Catarina\tSC\n",
    "DDD 47\tAscurra\tSanta Catarina\tSC\n",
    "DDD 47\tAtalanta\tSanta Catarina\tSC\n",
    "DDD 47\tAurora\tSanta Catarina\tSC\n",
    "DDD 47\tBalneario Barra Do Sul\tSanta Catarina\tSC\n",
    "DDD 47\tBalneario Camboriu\tSanta Catarina\tSC\n",
    "DDD 47\tBarra Velha\tSanta Catarina\tSC\n",
    "DDD 47\tBela Vista Do Toldo\tSanta Catarina\tSC\n",
    "DDD 47\tBenedito Novo\tSanta Catarina\tSC\n",
    "DDD 47\tBlumenau\tSanta Catarina\tSC\n",
    "DDD 47\tBombinhas\tSanta Catarina\tSC\n",
    "DDD 47\tBotuvera\tSanta Catarina\tSC\n",
    "DDD 47\tBraco Do Trombudo\tSanta Catarina\tSC\n",
    "DDD 47\tBrusque\tSanta Catarina\tSC\n",
    "DDD 47\tCamboriu\tSanta Catarina\tSC\n",
    "DDD 47\tCampo Alegre\tSanta Catarina\tSC\n",
    "DDD 47\tCanoinhas\tSanta Catarina\tSC\n",
    "DDD 47\tChapadão Do Lageado\tSanta Catarina\tSC\n",
    "DDD 47\tCorupa\tSanta Catarina\tSC\n",
    "DDD 47\tDona Emma\tSanta Catarina\tSC\n",
    "DDD 47\tDoutor Pedrinho\tSanta Catarina\tSC\n",
    "DDD 47\tGaruva\tSanta Catarina\tSC\n",
    "DDD 47\tGaspar\tSanta Catarina\tSC\n",
    "DDD 47\tGuabiruba\tSanta Catarina\tSC\n",
    "DDD 47\tGuaramirim\tSanta Catarina\tSC\n",
    "DDD 47\tIbirama\tSanta Catarina\tSC\n",
    "DDD 47\tIlhota\tSanta Catarina\tSC\n",
    "DDD 47\tImbuia\tSanta Catarina\tSC\n",
    "DDD 47\tIndaial\tSanta Catarina\tSC\n",
    "DDD 47\tIrineopolis\tSanta Catarina\tSC\n",
    "DDD 47\tItaiopolis\tSanta Catarina\tSC\n",
    "DDD 47\tItajai\tSanta Catarina\tSC\n",
    "DDD 47\tItapema\tSanta Catarina\tSC\n",
    "DDD 47\tItapoa\tSanta Catarina\tSC\n",
    "DDD 47\tItuporanga\tSanta Catarina\tSC\n",
    "DDD 47\tJaragua Do Sul\tSanta Catarina\tSC\n",
    "DDD 47\tJoinville\tSanta Catarina\tSC\n",
    "DDD 47\tJose Boiteux\tSanta Catarina\tSC\n",
    "DDD 47\tLaurentino\tSanta Catarina\tSC\n",
    "DDD 47\tLontras\tSanta Catarina\tSC\n",
    "DDD 47\tLuiz Alves\tSanta Catarina\tSC\n",
    "DDD 47\tMafra\tSanta Catarina\tSC\n",
    "DDD 47\tMajor Vieira\tSanta Catarina\tSC\n",
    "DDD 47\tMassaranduba\tSanta Catarina\tSC\n",
    "DDD 47\tMirim Doce\tSanta Catarina\tSC\n",
    "DDD 47\tMonte Castelo\tSanta Catarina\tSC\n",
    "DDD 47\tNavegantes\tSanta Catarina\tSC\n",
    "DDD 47\tPapanduva\tSanta Catarina\tSC\n",
    "DDD 47\tPenha\tSanta Catarina\tSC\n",
    "DDD 47\tPetrolandia\tSanta Catarina\tSC\n",
    "DDD 47\tPicarras\tSanta Catarina\tSC\n",
    "DDD 47\tPomerode\tSanta Catarina\tSC\n",
    "DDD 47\tPorto Belo\tSanta Catarina\tSC\n",
    "DDD 47\tPouso Redondo\tSanta Catarina\tSC\n",
    "DDD 47\tPresidente Getulio\tSanta Catarina\tSC\n",
    "DDD 47\tPresidente Nereu\tSanta Catarina\tSC\n",
    "DDD 47\tRio Do Campo\tSanta Catarina\tSC\n",
    "DDD 47\tRio Do Oeste\tSanta Catarina\tSC\n",
    "DDD 47\tRio Do Sul\tSanta Catarina\tSC\n",
    "DDD 47\tRio Dos Cedros\tSanta Catarina\tSC\n",
    "DDD 47\tRio Negrinho\tSanta Catarina\tSC\n",
    "DDD 47\tRodeio\tSanta Catarina\tSC\n",
    "DDD 47\tSalete\tSanta Catarina\tSC\n",
    "DDD 47\tSanta Terezinha\tSanta Catarina\tSC\n",
    "DDD 47\tSão Bento Do Sul\tSanta Catarina\tSC\n",
    "DDD 47\tSão Francisco Do Sul\tSanta Catarina\tSC\n",
    "DDD 47\tSão João Do Itaperiu\tSanta Catarina\tSC\n",
    "DDD 47\tSchroeder\tSanta Catarina\tSC\n",
    "DDD 47\tTaio\tSanta Catarina\tSC\n",
    "DDD 47\tTimbo\tSanta Catarina\tSC\n",
    "DDD 47\tTres Barras\tSanta Catarina\tSC\n",
    "DDD 47\tTrombudo Central\tSanta Catarina\tSC\n",
    "DDD 47\tVidal Ramos\tSanta Catarina\tSC\n",
    "DDD 47\tVitor Meireles\tSanta Catarina\tSC\n",
    "DDD 47\tWitmarsum\tSanta Catarina\tSC'''"
   ]
  },
  {
   "cell_type": "code",
   "execution_count": 4,
   "metadata": {},
   "outputs": [],
   "source": [
    "cities_47 = txt.replace('DDD 47\\t','').replace('\\tSanta Catarina\\tSC', '').strip().split('\\n')"
   ]
  },
  {
   "cell_type": "code",
   "execution_count": 53,
   "metadata": {},
   "outputs": [
    {
     "name": "stdout",
     "output_type": "stream",
     "text": [
      "Agrolandia\n",
      "Agronomica\n",
      "Apiuna\n"
     ]
    },
    {
     "ename": "IndexError",
     "evalue": "list index out of range",
     "output_type": "error",
     "traceback": [
      "\u001b[0;31m---------------------------------------------------------------------------\u001b[0m",
      "\u001b[0;31mIndexError\u001b[0m                                Traceback (most recent call last)",
      "\u001b[0;32m<ipython-input-53-e9733f3e5093>\u001b[0m in \u001b[0;36m<module>\u001b[0;34m\u001b[0m\n\u001b[1;32m      6\u001b[0m         \u001b[0msleep\u001b[0m\u001b[0;34m(\u001b[0m\u001b[0;36m0.5\u001b[0m\u001b[0;34m)\u001b[0m\u001b[0;34m\u001b[0m\u001b[0;34m\u001b[0m\u001b[0m\n\u001b[1;32m      7\u001b[0m         \u001b[0mprint\u001b[0m\u001b[0;34m(\u001b[0m\u001b[0mcity\u001b[0m\u001b[0;34m)\u001b[0m\u001b[0;34m\u001b[0m\u001b[0;34m\u001b[0m\u001b[0m\n\u001b[0;32m----> 8\u001b[0;31m         \u001b[0mnew_dict_city\u001b[0m\u001b[0;34m[\u001b[0m\u001b[0mcity\u001b[0m\u001b[0;34m]\u001b[0m \u001b[0;34m=\u001b[0m \u001b[0mmaps\u001b[0m\u001b[0;34m.\u001b[0m\u001b[0mcity_coordinates\u001b[0m\u001b[0;34m(\u001b[0m\u001b[0mcity\u001b[0m\u001b[0;34m=\u001b[0m\u001b[0mcity\u001b[0m\u001b[0;34m,\u001b[0m \u001b[0mstate\u001b[0m\u001b[0;34m=\u001b[0m\u001b[0;34m'santa catarina'\u001b[0m\u001b[0;34m,\u001b[0m \u001b[0mcountry\u001b[0m\u001b[0;34m=\u001b[0m\u001b[0;34m'brazil'\u001b[0m\u001b[0;34m)\u001b[0m\u001b[0;34m\u001b[0m\u001b[0;34m\u001b[0m\u001b[0m\n\u001b[0m",
      "\u001b[0;32m~/Documents/programas/places/search/models.py\u001b[0m in \u001b[0;36mcity_coordinates\u001b[0;34m(self, city, state, country)\u001b[0m\n\u001b[1;32m     74\u001b[0m         \u001b[0mresp\u001b[0m \u001b[0;34m=\u001b[0m \u001b[0mrequests\u001b[0m\u001b[0;34m.\u001b[0m\u001b[0mget\u001b[0m\u001b[0;34m(\u001b[0m\u001b[0mself\u001b[0m\u001b[0;34m.\u001b[0m\u001b[0murl_text_search\u001b[0m\u001b[0;34m,\u001b[0m \u001b[0mparams\u001b[0m\u001b[0;34m=\u001b[0m\u001b[0mparams\u001b[0m\u001b[0;34m)\u001b[0m\u001b[0;34m\u001b[0m\u001b[0;34m\u001b[0m\u001b[0m\n\u001b[1;32m     75\u001b[0m         \u001b[0;32mif\u001b[0m \u001b[0;34m'results'\u001b[0m \u001b[0;32min\u001b[0m \u001b[0mresp\u001b[0m\u001b[0;34m.\u001b[0m\u001b[0mjson\u001b[0m\u001b[0;34m(\u001b[0m\u001b[0;34m)\u001b[0m\u001b[0;34m:\u001b[0m\u001b[0;34m\u001b[0m\u001b[0;34m\u001b[0m\u001b[0m\n\u001b[0;32m---> 76\u001b[0;31m             \u001b[0;32mreturn\u001b[0m \u001b[0mresp\u001b[0m\u001b[0;34m.\u001b[0m\u001b[0mjson\u001b[0m\u001b[0;34m(\u001b[0m\u001b[0;34m)\u001b[0m\u001b[0;34m[\u001b[0m\u001b[0;34m'results'\u001b[0m\u001b[0;34m]\u001b[0m\u001b[0;34m[\u001b[0m\u001b[0;36m0\u001b[0m\u001b[0;34m]\u001b[0m\u001b[0;34m[\u001b[0m\u001b[0;34m'geometry'\u001b[0m\u001b[0;34m]\u001b[0m\u001b[0;34m[\u001b[0m\u001b[0;34m'location'\u001b[0m\u001b[0;34m]\u001b[0m\u001b[0;34m\u001b[0m\u001b[0;34m\u001b[0m\u001b[0m\n\u001b[0m\u001b[1;32m     77\u001b[0m \u001b[0;34m\u001b[0m\u001b[0m\n",
      "\u001b[0;31mIndexError\u001b[0m: list index out of range"
     ]
    }
   ],
   "source": [
    "new_dict_city = dict()\n",
    "maps = Maps(key)\n",
    "\n",
    "for city in cities_47:\n",
    "    if city not in new_dict_city.keys():\n",
    "        sleep(0.5)\n",
    "        print(city)\n",
    "        new_dict_city[city] = maps.city_coordinates(city=city, state='santa catarina', country='brazil')"
   ]
  },
  {
   "cell_type": "code",
   "execution_count": 33,
   "metadata": {},
   "outputs": [
    {
     "data": {
      "text/plain": [
       "{'html_attributions': [],\n",
       " 'results': [{'formatted_address': 'Botuverá - State of Santa Catarina, 88370-000, Brazil',\n",
       "   'geometry': {'location': {'lat': -27.2001467, 'lng': -49.0744924},\n",
       "    'viewport': {'northeast': {'lat': -27.1189198, 'lng': -48.975328},\n",
       "     'southwest': {'lat': -27.3082315, 'lng': -49.2478975}}},\n",
       "   'icon': 'https://maps.gstatic.com/mapfiles/place_api/icons/geocode-71.png',\n",
       "   'name': 'Botuverá',\n",
       "   'photos': [{'height': 3120,\n",
       "     'html_attributions': ['<a href=\"https://maps.google.com/maps/contrib/112726308726510698124\">Rafael Balestieri</a>'],\n",
       "     'photo_reference': 'CmRaAAAAZFdMM7jBa6U5oBgk0M8E1Pj2DTPqZtFwsqvZwhXYUAgnQ_7wA7-w3zDg0btEkneUZtl__bzImQa7aZrea9FnkNgAZV37G1VyAhxD3DFF9eSIahn_xPxUN10RNL8Cq4fFEhBd07oqUdLJ4VTw7SMq7ZRmGhRJ5eDh1WURvhhUQnG8MyfoesrVfA',\n",
       "     'width': 4160}],\n",
       "   'place_id': 'ChIJkzcG1PNr35QROhfe9A9Ew0M',\n",
       "   'reference': 'ChIJkzcG1PNr35QROhfe9A9Ew0M',\n",
       "   'types': ['administrative_area_level_2', 'political']}],\n",
       " 'status': 'OK'}"
      ]
     },
     "execution_count": 33,
     "metadata": {},
     "output_type": "execute_result"
    }
   ],
   "source": [
    "import requests\n",
    "params = {'query': f'Botuvera santa catarina brazil',\n",
    "          'radius': 50000,\n",
    "          'key': key}\n",
    "resp = requests.get('https://maps.googleapis.com/maps/api/place/textsearch/json', params=params)\n",
    "resp.json()"
   ]
  },
  {
   "cell_type": "code",
   "execution_count": 42,
   "metadata": {},
   "outputs": [
    {
     "data": {
      "text/plain": [
       "{'Agrolandia': {'lat': -27.4106483, 'lng': -49.8296196},\n",
       " 'Agronomica': {'lat': -27.2651999, 'lng': -49.7121068},\n",
       " 'Apiuna': {'lat': -27.0361265, 'lng': -49.3907772}}"
      ]
     },
     "execution_count": 42,
     "metadata": {},
     "output_type": "execute_result"
    }
   ],
   "source": [
    "new_dict_city"
   ]
  },
  {
   "cell_type": "code",
   "execution_count": 52,
   "metadata": {},
   "outputs": [
    {
     "data": {
      "text/plain": [
       "False"
      ]
     },
     "execution_count": 52,
     "metadata": {},
     "output_type": "execute_result"
    }
   ],
   "source": [
    "'Agrolandia' not in new_dict_city.keys()"
   ]
  },
  {
   "cell_type": "code",
   "execution_count": 54,
   "metadata": {},
   "outputs": [
    {
     "data": {
      "text/plain": [
       "{'Agrolandia': {'lat': -27.4106483, 'lng': -49.8296196},\n",
       " 'Agronomica': {'lat': -27.2651999, 'lng': -49.7121068}}"
      ]
     },
     "execution_count": 54,
     "metadata": {},
     "output_type": "execute_result"
    }
   ],
   "source": [
    "new_dict_city"
   ]
  },
  {
   "cell_type": "code",
   "execution_count": null,
   "metadata": {},
   "outputs": [],
   "source": []
  }
 ],
 "metadata": {
  "kernelspec": {
   "display_name": "Python 3",
   "language": "python",
   "name": "python3"
  },
  "language_info": {
   "codemirror_mode": {
    "name": "ipython",
    "version": 3
   },
   "file_extension": ".py",
   "mimetype": "text/x-python",
   "name": "python",
   "nbconvert_exporter": "python",
   "pygments_lexer": "ipython3",
   "version": "3.8.1"
  }
 },
 "nbformat": 4,
 "nbformat_minor": 4
}
