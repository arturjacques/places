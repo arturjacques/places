{
 "cells": [
  {
   "cell_type": "code",
   "execution_count": 1,
   "metadata": {},
   "outputs": [],
   "source": [
    "from search.models import Maps\n",
    "import requests\n",
    "from time import sleep"
   ]
  },
  {
   "cell_type": "code",
   "execution_count": 2,
   "metadata": {},
   "outputs": [],
   "source": [
    "f = open('key.txt', mode='r')\n",
    "key = f.read()\n",
    "f.close()"
   ]
  },
  {
   "cell_type": "code",
   "execution_count": 3,
   "metadata": {},
   "outputs": [],
   "source": [
    "location = {\n",
    "    'florianopolis': '-27.35214,-48.32172',\n",
    "    'forquilinha': '-28.746565, -49.474293',\n",
    "    \n",
    "}\n",
    "\n",
    "search_words = [\n",
    "    'borracharia',\n",
    "    'pneu',\n",
    "    'rodas'\n",
    "]"
   ]
  },
  {
   "cell_type": "code",
   "execution_count": 4,
   "metadata": {},
   "outputs": [],
   "source": [
    "dict_city = {\n",
    " 'Aguas Mornas': {'lat': -27.743632, 'lng': -48.9202828},\n",
    " 'Alfredo Wagner': {'lat': -27.6959489, 'lng': -49.33206939999999},\n",
    " 'Angelina': {'lat': -27.5733359, 'lng': -48.9843789},\n",
    " 'Anitapolis': {'lat': -27.9071185, 'lng': -49.128297},\n",
    " 'Antonio Carlos': {'lat': -27.5179042, 'lng': -48.7684179},\n",
    " 'Ararangua': {'lat': -28.9361187, 'lng': -49.4923013},\n",
    " 'Armazem': {'lat': -27.6135492, 'lng': -48.5268384},\n",
    " 'Balneario Arroio Do Silva': {'lat': -29.0195187, 'lng': -49.4771118},\n",
    " 'Balneario Gaivota': {'lat': -29.1546867, 'lng': -49.5809106},\n",
    " 'Biguacu': {'lat': -27.5840913, 'lng': -48.586907},\n",
    " 'Braco Do Norte': {'lat': -28.2303185, 'lng': -49.1423666},\n",
    " 'Canelinha': {'lat': -27.2618213, 'lng': -48.7653683},\n",
    " 'Capivari De Baixo': {'lat': -28.4605555, 'lng': -48.9505159},\n",
    " 'Cocal Do Sul': {'lat': -28.5994838, 'lng': -49.3238948},\n",
    " 'Criciuma': {'lat': -28.6726329, 'lng': -49.3733541},\n",
    " 'Ermo': {'lat': -28.984951, 'lng': -49.6423481},\n",
    " 'Florianopolis': {'lat': -27.5948698, 'lng': -48.54821949999999},\n",
    " 'Forquilhinha': {'lat': -28.7477963, 'lng': -49.4745059},\n",
    " 'Garopaba': {'lat': -28.0272534, 'lng': -48.6189508},\n",
    " 'Governador Celso Ramos': {'lat': -27.3159368, 'lng': -48.5571297},\n",
    " 'Grão Para': {'lat': -28.1856432, 'lng': -49.216393},\n",
    " 'Gravatal': {'lat': -28.3268408, 'lng': -49.070154},\n",
    " 'Icara': {'lat': -28.7137096, 'lng': -49.3091437},\n",
    " 'Imarui': {'lat': -28.3437512, 'lng': -48.8164937},\n",
    " 'Imbituba': {'lat': -28.227627, 'lng': -48.6691286},\n",
    " 'Jacinto Machado': {'lat': -29.0003303, 'lng': -49.76115799999999},\n",
    " 'Jaguaruna': {'lat': -28.6188468, 'lng': -49.0251668},\n",
    " 'Laguna': {'lat': -28.4876062, 'lng': -48.8397403},\n",
    " 'Lauro Muller': {'lat': -28.3919058, 'lng': -49.3960964},\n",
    " 'Leoberto Leal': {'lat': -27.5048201, 'lng': -49.2883819},\n",
    " 'Major Gercino': {'lat': -27.4398664, 'lng': -49.1019233},\n",
    " 'Maracaja': {'lat': -28.8475807, 'lng': -49.45456069999999},\n",
    " 'Meleiro': {'lat': -28.8564935, 'lng': -49.5891233},\n",
    " 'Morro Da Fumaca': {'lat': -28.6540002, 'lng': -49.2120154},\n",
    " 'Morro Grande': {'lat': -28.8010724, 'lng': -49.7218557},\n",
    " 'Nova Trento': {'lat': -27.3069805, 'lng': -49.0009403},\n",
    " 'Nova Veneza': {'lat': -28.6370917, 'lng': -49.5010759},\n",
    " 'Orleans': {'lat': -28.3586648, 'lng': -49.288187},\n",
    " 'Palhoca': {'lat': -27.646431, 'lng': -48.67191680000001},\n",
    " 'Passo De Torres': {'lat': -29.3210426, 'lng': -49.7239211},\n",
    " 'Paulo Lopes': {'lat': -27.9604166, 'lng': -48.6789114},\n",
    " 'Pedras Grandes': {'lat': -28.4355772, 'lng': -49.18543820000001},\n",
    " 'Praia Grande': {'lat': -24.0088603, 'lng': -46.412475},\n",
    " 'Rancho Queimado': {'lat': -27.6734343, 'lng': -49.0124407},\n",
    " 'Rio Fortuna': {'lat': -28.1340254, 'lng': -49.10375190000001},\n",
    " 'Sangão': {'lat': -28.6381455, 'lng': -49.1257517},\n",
    " 'Santa Rosa De Lima': {'lat': -28.0122447, 'lng': -49.1828385},\n",
    " 'Santa Rosa Do Sul': {'lat': -29.1382661, 'lng': -49.7151971},\n",
    " 'Santo Amaro Da Imperatriz': {'lat': -27.6856839, 'lng': -48.7817857},\n",
    " 'São Bonifacio': {'lat': -27.9001105, 'lng': -48.9301287},\n",
    " 'São João Batista': {'lat': -27.5774781, 'lng': -48.5279451},\n",
    " 'São João Do Sul': {'lat': -29.224309, 'lng': -49.8100179},\n",
    " 'São Jose': {'lat': -27.6140791, 'lng': -48.6370861},\n",
    " 'São Ludgero': {'lat': -28.3274045, 'lng': -49.1789665},\n",
    " 'São Martinho': {'lat': -28.1613858, 'lng': -48.98720850000001},\n",
    " 'São Pedro De Alcantara': {'lat': -27.5852252, 'lng': -48.8296806},\n",
    " 'Sideropolis': {'lat': -28.5959415, 'lng': -49.4319419},\n",
    " 'Sombrio': {'lat': -29.1014721, 'lng': -49.6378275},\n",
    " 'Tijucas': {'lat': -27.240063, 'lng': -48.63361829999999},\n",
    " 'Timbe Do Sul': {'lat': -28.829251, 'lng': -49.8425427},\n",
    " 'Treviso': {'lat': 45.6668893, 'lng': 12.2430437},\n",
    " 'Treze De Maio': {'lat': -28.5598768, 'lng': -49.1510349},\n",
    " 'Tubarão': {'lat': -28.4818875, 'lng': -49.0058727},\n",
    " 'Turvo': {'lat': -25.0461518, 'lng': -51.53926999999999},\n",
    " 'Urussanga': {'lat': -28.5255665, 'lng': -49.3215411}\n",
    "}\n"
   ]
  },
  {
   "cell_type": "code",
   "execution_count": 5,
   "metadata": {},
   "outputs": [],
   "source": [
    "list_city = list(dict_city.keys())"
   ]
  },
  {
   "cell_type": "code",
   "execution_count": 6,
   "metadata": {
    "scrolled": true
   },
   "outputs": [
    {
     "name": "stdout",
     "output_type": "stream",
     "text": [
      "Aguas Mornas\n",
      "Alfredo Wagner\n",
      "Angelina\n",
      "Anitapolis\n",
      "Antonio Carlos\n",
      "Ararangua\n",
      "Armazem\n",
      "Balneario Arroio Do Silva\n",
      "Balneario Gaivota\n",
      "Biguacu\n",
      "Braco Do Norte\n",
      "Canelinha\n",
      "Capivari De Baixo\n",
      "Cocal Do Sul\n",
      "Criciuma\n",
      "Ermo\n",
      "Florianopolis\n",
      "Forquilhinha\n",
      "Garopaba\n",
      "Governador Celso Ramos\n",
      "Grão Para\n",
      "Gravatal\n",
      "Icara\n",
      "Imarui\n",
      "Imbituba\n",
      "Jacinto Machado\n",
      "Jaguaruna\n",
      "Laguna\n",
      "Lauro Muller\n",
      "Leoberto Leal\n",
      "Major Gercino\n",
      "Maracaja\n",
      "Meleiro\n",
      "Morro Da Fumaca\n",
      "Morro Grande\n",
      "Nova Trento\n",
      "Nova Veneza\n",
      "Orleans\n",
      "Palhoca\n",
      "Passo De Torres\n",
      "Paulo Lopes\n",
      "Pedras Grandes\n",
      "Praia Grande\n",
      "Rancho Queimado\n",
      "Rio Fortuna\n",
      "Sangão\n",
      "Santa Rosa De Lima\n",
      "Santa Rosa Do Sul\n",
      "Santo Amaro Da Imperatriz\n",
      "São Bonifacio\n",
      "São João Batista\n",
      "São João Do Sul\n",
      "São Jose\n",
      "São Ludgero\n",
      "São Martinho\n",
      "São Pedro De Alcantara\n",
      "Sideropolis\n",
      "Sombrio\n",
      "Tijucas\n",
      "Timbe Do Sul\n",
      "Treviso\n",
      "Treze De Maio\n",
      "Tubarão\n",
      "Turvo\n",
      "Urussanga\n"
     ]
    }
   ],
   "source": [
    "new_dict_city = dict()\n",
    "maps = Maps(key)\n",
    "\n",
    "for city in list_city:\n",
    "    print(city)\n",
    "    new_dict_city[city] = maps.city_coordinates(city=city)"
   ]
  },
  {
   "cell_type": "code",
   "execution_count": 8,
   "metadata": {},
   "outputs": [],
   "source": [
    "import pandas as pd"
   ]
  },
  {
   "cell_type": "code",
   "execution_count": 17,
   "metadata": {},
   "outputs": [],
   "source": [
    "lojas = pd.read_csv('places.csv').drop(['Unnamed: 0', 'types', 'business_status'], axis=1)"
   ]
  },
  {
   "cell_type": "code",
   "execution_count": 21,
   "metadata": {},
   "outputs": [],
   "source": [
    "lojas.rename({'name': 'nome', 'location':'coordenadas',\n",
    "              'url': 'link_maps', 'rating':'avaliação',\n",
    "              'formatted_phone_number': 'telefone',\n",
    "              'formatted_address': 'endereço'}, axis=1).to_csv('lojas.csv')"
   ]
  },
  {
   "cell_type": "code",
   "execution_count": null,
   "metadata": {},
   "outputs": [],
   "source": []
  }
 ],
 "metadata": {
  "kernelspec": {
   "display_name": "Python 3",
   "language": "python",
   "name": "python3"
  },
  "language_info": {
   "codemirror_mode": {
    "name": "ipython",
    "version": 3
   },
   "file_extension": ".py",
   "mimetype": "text/x-python",
   "name": "python",
   "nbconvert_exporter": "python",
   "pygments_lexer": "ipython3",
   "version": "3.8.1"
  }
 },
 "nbformat": 4,
 "nbformat_minor": 4
}
